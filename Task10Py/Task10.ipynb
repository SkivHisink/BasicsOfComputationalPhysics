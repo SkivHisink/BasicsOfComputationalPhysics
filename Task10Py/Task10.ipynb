{
 "cells": [
  {
   "cell_type": "markdown",
   "metadata": {},
   "source": [
    "![alt text](Task.JPG \"Задание\")"
   ]
  },
  {
   "cell_type": "code",
   "execution_count": 2,
   "metadata": {},
   "outputs": [],
   "source": [
    "import numpy as np\n",
    "import matplotlib.pyplot as plt\n",
    "import math\n",
    "from scipy.misc import derivative"
   ]
  },
  {
   "cell_type": "code",
   "execution_count": 3,
   "metadata": {},
   "outputs": [],
   "source": [
    "class DiffusionEquation:\n",
    "    def __init__(self, D = 0 , T = 0, L= 0, Nx = 0, Nt = 0) -> None:\n",
    "        self.T = T\n",
    "        self.L = L\n",
    "        self.D = D\n",
    "        self.Nx = Nx\n",
    "        self.Nt = Nt\n",
    "        self.map = np.zeros((Nt, Nx))\n",
    "    \n",
    "    def set_boundary_conditions(self):\n",
    "        for i in range(self.Nt):\n",
    "            self.map[i][0] = 0\n",
    "            self.map[i][self.Nx - 1] = 0\n",
    "        for i in range(self.Nx):\n",
    "            x = self.L * i / (self.Nx - 1.)\n",
    "            self.map[0][i] = x * (1 - x / self.L)\n",
    "\n",
    "def fill_right_side(equation, a, right_side, t):\n",
    "    right_side[0]=0\n",
    "    for i in range(equation.Nx - 2):\n",
    "        right_side[i + 1] = a * equation.map[t][i] + 2 * (1 - a) * equation.map[t][i+1] + a * equation.map[t][i + 2]\n",
    "    right_side[equation.Nx - 1] = 0 \n",
    "\n",
    "def gauss_elimination(Nx, eliminated, right_side):\n",
    "    result = np.zeros((Nx))\n",
    "    for i in range(Nx):\n",
    "        id = Nx - 1 - i\n",
    "        dot = 0\n",
    "        for j in range(Nx):\n",
    "            dot += result[j] * eliminated[id][j]\n",
    "        result[id] = (right_side[id] - dot) / eliminated[id][id]\n",
    "    return result\n",
    "def solve_Crank_Nicolson(equation):\n",
    "    h = equation.L / (equation.Nx - 1)\n",
    "    dt = equation.T / (equation.Nt - 1)\n",
    "    a = dt * equation.D / (h * h)\n",
    "    matr = np.zeros((equation.Nx, equation.Nx))\n",
    "    # Filling matr\n",
    "    mElement = 2 * (1 + a)\n",
    "    sElement = -a\n",
    "    for i in range(equation.Nx):\n",
    "        matr[i, i] = mElement\n",
    "    i = 1\n",
    "    while i < equation.Nx - 1:\n",
    "        matr[i, i - 1] = sElement\n",
    "        matr[i, i + 1] = sElement\n",
    "        i+=1\n",
    "    matr[0][0] = 1.\n",
    "    matr[equation.Nx - 1, equation.Nx - 1] = 1.\n",
    "    #\n",
    "    eliminated = np.copy(matr)\n",
    "\n",
    "    ratios = list()\n",
    "    for i in range(equation.Nx - 2):\n",
    "        ratio = eliminated[i + 1][i] / eliminated[i][i]\n",
    "        ratios.append(ratio)\n",
    "        for j in range(equation.Nx):\n",
    "            eliminated[i + 1][j] = eliminated[i + 1][j] - eliminated[i][j] * ratio\n",
    "\n",
    "    right_side = np.zeros((equation.Nx))\n",
    "\n",
    "    for i in range(equation.Nt - 1):\n",
    "        fill_right_side(equation, a, right_side, i)\n",
    "        for j in range(equation.Nx - 2):\n",
    "            right_side[j + 1] = right_side[j + 1] - right_side[j] * ratios[j]\n",
    "        next = gauss_elimination(equation.Nx, eliminated, right_side)\n",
    "        for j in range(equation.Nx):\n",
    "            equation.map[i + 1][j] = next[j]\n",
    "    fill_right_side(equation, a, right_side, 0)"
   ]
  },
  {
   "cell_type": "code",
   "execution_count": 36,
   "metadata": {},
   "outputs": [],
   "source": [
    "# выставляем начальные значения констант и размер системы\n",
    "equation = DiffusionEquation(0.6, 0.5, 1, 100, 100)\n",
    "# устанавливаем гран условия\n",
    "equation.set_boundary_conditions()"
   ]
  },
  {
   "cell_type": "code",
   "execution_count": 37,
   "metadata": {},
   "outputs": [],
   "source": [
    "solve_Crank_Nicolson(equation)"
   ]
  },
  {
   "cell_type": "code",
   "execution_count": 38,
   "metadata": {},
   "outputs": [
    {
     "data": {
      "image/png": "[encoded data removed]",
      "text/plain": [
       "<Figure size 720x720 with 1 Axes>"
      ]
     },
     "metadata": {
      "needs_background": "light"
     },
     "output_type": "display_data"
    }
   ],
   "source": [
    "fig, ax = plt.subplots()\n",
    "plt.rcParams['figure.figsize'] = [10, 10]\n",
    "im = ax.imshow(equation.map)"
   ]
  },
  {
   "cell_type": "code",
   "execution_count": null,
   "metadata": {},
   "outputs": [],
   "source": []
  }
 ],
 "metadata": {
  "interpreter": {
   "hash": "fdb6fbf867c7187f7f8a8febc5c3788177bc371946a18d2edded7c37c02c74b2"
  },
  "kernelspec": {
   "display_name": "Python 3.7.8 64-bit",
   "language": "python",
   "name": "python3"
  },
  "language_info": {
   "codemirror_mode": {
    "name": "ipython",
    "version": 3
   },
   "file_extension": ".py",
   "mimetype": "text/x-python",
   "name": "python",
   "nbconvert_exporter": "python",
   "pygments_lexer": "ipython3",
   "version": "3.7.8"
  },
  "orig_nbformat": 4
 },
 "nbformat": 4,
 "nbformat_minor": 2
}
