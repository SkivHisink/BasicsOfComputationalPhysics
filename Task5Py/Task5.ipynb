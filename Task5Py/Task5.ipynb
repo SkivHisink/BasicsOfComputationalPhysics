{
 "cells": [
  {
   "cell_type": "code",
   "execution_count": 1,
   "source": [
    "import numpy as numpy\r\n",
    "import matplotlib.pyplot as plt\r\n",
    "import math\r\n",
    "from scipy.misc import derivative\r\n",
    "\r\n",
    "%matplotlib inline"
   ],
   "outputs": [],
   "metadata": {}
  },
  {
   "cell_type": "code",
   "execution_count": null,
   "source": [
    "def SupportFunction(points, i, x):\r\n",
    "    result = 1.0\r\n",
    "    for j in range(len(points)):\r\n",
    "        if j==i:\r\n",
    "            continue\r\n",
    "        result *= x - points[j][0]\r\n",
    "def LagrangePolynom(points, x):\r\n",
    "    result = 0.0\r\n",
    "    for i in range(len(points)):\r\n",
    "        result += points[i][1] * SupportFunction(points, i, x)/SupportFunction(points, i, points[i][0])\r\n",
    "    return result"
   ],
   "outputs": [],
   "metadata": {}
  },
  {
   "cell_type": "code",
   "execution_count": null,
   "source": [
    "def Pn(q,n):\r\n",
    "    result = 1.0\r\n",
    "    for i in range(n):\r\n",
    "        result *= (q - i)\r\n",
    "    return result / math.factorial(n)\r\n",
    "def diffMatrix(points):\r\n",
    "    return 0\r\n",
    "    #diff = list(list())\r\n",
    "    #diff.append(list())\r\n",
    "    #for i in range(len(points)):\r\n",
    "    #    diff[0].append(points[1])\r\n",
    "    #\r\n",
    "def NewtonPolynom(points, x):\r\n",
    "    diff = diffMatrix(points)\r\n",
    "    remainNumber = len(diff[0])-1\r\n",
    "    while remainNumber > 0:\r\n",
    "        remainNumber -=1\r\n",
    "        lastCol = diff[2]\r\n",
    "        "
   ],
   "outputs": [],
   "metadata": {}
  }
 ],
 "metadata": {
  "orig_nbformat": 4,
  "language_info": {
   "name": "python",
   "version": "3.7.8",
   "mimetype": "text/x-python",
   "codemirror_mode": {
    "name": "ipython",
    "version": 3
   },
   "pygments_lexer": "ipython3",
   "nbconvert_exporter": "python",
   "file_extension": ".py"
  },
  "kernelspec": {
   "name": "python3",
   "display_name": "Python 3.7.8 64-bit"
  },
  "interpreter": {
   "hash": "fdb6fbf867c7187f7f8a8febc5c3788177bc371946a18d2edded7c37c02c74b2"
  }
 },
 "nbformat": 4,
 "nbformat_minor": 2
}