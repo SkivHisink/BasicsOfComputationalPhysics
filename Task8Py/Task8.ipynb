{
 "cells": [
  {
   "cell_type": "code",
   "execution_count": null,
   "metadata": {},
   "outputs": [],
   "source": [
    "import numpy as np\n",
    "import matplotlib.pyplot as plt\n",
    "import math\n",
    "from scipy.misc import derivative\n",
    "\n",
    "%matplotlib inline\n",
    "\n",
    "class PPEq:\n",
    "    def __init__(self, epsilon = 0.001):\n",
    "        self.x0 = 1.0\n",
    "        self.t0 = 0.0\n",
    "        self.func = lambda x, t: 0# lambda x, t: -x\n",
    "        self.exact_sol = lambda x: 0 # lambda x: np.exp(-x)\n",
    "        self.epsilon = 0.001\n",
    "        self.a = 10\n",
    "        self.b = 2\n",
    "        self.c = 2\n",
    "        self.d = 10\n",
    "\n",
    "    def xRight(self,x, y):\n",
    "        return 998 * x + 1998 * y\n",
    "\n",
    "    def yRight(self,x, y):\n",
    "        return -999 * x - 1999 * y \n",
    "    \n",
    "    def f(self, pos, t):\n",
    "        return (self.xRight(pos[0], pos[1]), self.yRight(pos[0], pos[1]))\n",
    "\n",
    "class ImpSolver"
   ]
  }
 ],
 "metadata": {
  "language_info": {
   "name": "python"
  },
  "orig_nbformat": 4
 },
 "nbformat": 4,
 "nbformat_minor": 2
}
