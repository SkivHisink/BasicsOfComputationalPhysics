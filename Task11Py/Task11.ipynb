{
 "cells": [
  {
   "cell_type": "markdown",
   "metadata": {},
   "source": [
    "![alt text](Task.JPG \"Задание\")"
   ]
  },
  {
   "cell_type": "markdown",
   "metadata": {},
   "source": [
    "# prev"
   ]
  },
  {
   "cell_type": "code",
   "execution_count": 1,
   "metadata": {},
   "outputs": [],
   "source": [
    "import numpy as np\n",
    "import matplotlib.pyplot as plt\n",
    "import math\n",
    "from scipy.misc import derivative\n",
    "\n",
    "def U(x) -> float:\n",
    "    return x ** 2 / 2\n",
    "\n",
    "class Shrodinger:\n",
    "    def __init__(self):\n",
    "        self.x = list()\n",
    "        self.psi_analit = list()\n",
    "        self. psi= list(list())\n",
    "    def A(self, x, U, N):\n",
    "        h = x[1] - x[0]\n",
    "        a = list()\n",
    "        for i in range(N):\n",
    "            a.append(1. / (2 * h ** 2))\n",
    "        a[0] = 0\n",
    "        b = list()\n",
    "        for i in range(len(a)):\n",
    "            b.append(1. / (h * h) + U(a[i]))\n",
    "        c = list()\n",
    "        for i in range(N):\n",
    "            c.append(-1. / (2 * h **2))\n",
    "        return a, b, c\n",
    "    def solve(self, left, right, N, number_of_iter, levels, U):\n",
    "        self.realloc(N)\n",
    "        self.E = list()\n",
    "        self.psi = list(list())\n",
    "        dx = (right - left) / (N - 1)\n",
    "        self.x = list()\n",
    "        for i in range(N):\n",
    "            self.x.append(left + dx * i)\n",
    "        a, b, c = self.A(self.x, U, N)\n",
    "        psi_zero = list()\n",
    "        for i in range(N):\n",
    "            psi_zero.append(1. + float(i) / (N - 1))\n",
    "        for i in range(levels):\n",
    "            psi_next = list(psi_zero)\n",
    "            self.orthogonalization(psi_next, self.psi)\n",
    "            psi_prev = list()\n",
    "            for k in range(number_of_iter):\n",
    "                psi_prev = psi_next\n",
    "                psi_next = self.tridiagonalMatrix(list(a), list(b), list(c), list(psi_next), N)\n",
    "                self.orthogonalization(psi_next, self.psi)\n",
    "            E_zero = self.norm(psi_prev) / self.norm(psi_next)\n",
    "            self.E.append(E_zero)\n",
    "            self.psi.append(psi_next)\n",
    "    def multiply(self, psi_next, coeff):\n",
    "        for i in range(len(psi_next)):\n",
    "            psi_next[i] *= coeff\n",
    "    def tridiagonalMatrix(self, a, b, c, d, N):\n",
    "        y = list()\n",
    "        for i in range(N):\n",
    "            y.append(0.)\n",
    "        i = 1\n",
    "        while i < N:\n",
    "            xi = a[i] / b[i - 1]\n",
    "            a[i] = 0\n",
    "            b[i] -= xi * c[i - 1]\n",
    "            d[i] -= xi * d[i - 1]\n",
    "            i += 1\n",
    "        y[N - 1] = d[N - 1] / b[N - 1]\n",
    "        i = N - 2\n",
    "        while i >= 0:\n",
    "            y[i] = 1 / b[i] * (d[i] - c[i] * y[i + 1])\n",
    "            i -= 1\n",
    "        return y\n",
    "    def orthogonalization(self, psi_next, psi_prevs):\n",
    "        for psi in psi_prevs:\n",
    "            normal = self.norm(psi)\n",
    "            inner_prod = self.inner(psi_next, psi)\n",
    "            mult = inner_prod / normal\n",
    "            for i in range(len(psi_next)):\n",
    "                psi_next[i] -= psi[i] * mult\n",
    "    def inner(self, a, b):\n",
    "        res = 0.\n",
    "        for i in range(len(a)):\n",
    "            res += a[i] * b[i]\n",
    "        return res\n",
    "    def norm(self, a):\n",
    "        res = 0.\n",
    "        for i in range(len(a)):\n",
    "            res += a[i] ** 2\n",
    "        return res\n",
    "    def realloc(self, N):\n",
    "        self.psi_analit = list()\n",
    "        for i in range(N):\n",
    "            self.psi_analit.append(0.)"
   ]
  },
  {
   "cell_type": "code",
   "execution_count": 14,
   "metadata": {},
   "outputs": [],
   "source": [
    "N = 20\n",
    "number_of_iter = 300\n",
    "level = 1\n",
    "solver = Shrodinger()"
   ]
  },
  {
   "cell_type": "code",
   "execution_count": 15,
   "metadata": {},
   "outputs": [],
   "source": [
    "solver.solve(-10, 10, N, number_of_iter, level, U)"
   ]
  },
  {
   "cell_type": "code",
   "execution_count": 13,
   "metadata": {},
   "outputs": [
    {
     "data": {
      "image/png": "[encoded data removed]",
      "text/plain": [
       "<Figure size 720x720 with 1 Axes>"
      ]
     },
     "metadata": {
      "needs_background": "light"
     },
     "output_type": "display_data"
    }
   ],
   "source": [
    "x_list = solver.x\n",
    "plt.rcParams['figure.figsize'] = [10, 10]\n",
    "fig, ax = plt.subplots()\n",
    "plt.title(\"Graphic\")\n",
    "for i in range(len(solver.psi)):\n",
    "    ax.plot(x_list, solver.psi[i], label = \"explicit x\")"
   ]
  },
  {
   "cell_type": "markdown",
   "metadata": {},
   "source": [
    "# new"
   ]
  },
  {
   "cell_type": "code",
   "execution_count": 2,
   "metadata": {},
   "outputs": [],
   "source": [
    "import numpy as np\n",
    "import cv2 as cv\n",
    "import matplotlib.pyplot as plt\n",
    "import matplotlib\n",
    "matplotlib.use('TkAgg')"
   ]
  },
  {
   "cell_type": "markdown",
   "metadata": {},
   "source": [
    "![alt text](tma.JPG \"Задание\")"
   ]
  },
  {
   "cell_type": "code",
   "execution_count": 3,
   "metadata": {},
   "outputs": [],
   "source": [
    "#tridiagonal matrix algorithm\n",
    "def tma_solver(a, b, c, d):\n",
    "    n = d.shape[0]\n",
    "    b_ = b.astype(dtype = float)\n",
    "    f_ = d.astype(dtype = float)\n",
    "    for i in range(1, n):\n",
    "        factor = a[i - 1] / b_[i - 1]\n",
    "        b_[i] = b_[i] - factor * c[i - 1] \n",
    "        f_[i] = f_[i] - factor * f_[i - 1] \n",
    "    x = b_.astype(dtype=float)\n",
    "    x[-1] = f_[-1] / b_[-1]\n",
    "    for i in range(n - 2, 0 - 1, -1):\n",
    "        x[i] = (f_[i] - c[i] * x[i + 1]) / b_[i]\n",
    "    return x"
   ]
  },
  {
   "cell_type": "code",
   "execution_count": 4,
   "metadata": {},
   "outputs": [],
   "source": [
    "# eigen value && eigen vector == собственное значение и собственный вектор\n",
    "def back_iteration_eigen_solver(a, b, c, start_eigen_vec, iters):\n",
    "    eigen_vec = start_eigen_vec / np.linalg.norm(start_eigen_vec)\n",
    "    eigen_val = np.nan\n",
    "    for _ in range(iters):\n",
    "        eigen_vec = tma_solver(a, b, c, eigen_vec)\n",
    "        norm = np.linalg.norm(eigen_vec)\n",
    "        eigen_val = 1 / norm\n",
    "        eigen_vec /= norm\n",
    "    return eigen_vec / np.linalg.norm(eigen_vec), eigen_val"
   ]
  },
  {
   "cell_type": "code",
   "execution_count": 18,
   "metadata": {},
   "outputs": [],
   "source": [
    "n = 1000\n",
    "iters = 100\n",
    "x_width = 20\n",
    "fig, ax = plt.subplots()\n",
    "plt.rcParams['figure.figsize'] = [10, 10]\n",
    "fig.canvas.draw()\n",
    "image = np.frombuffer(fig.canvas.tostring_rgb(), dtype=np.uint8)\n",
    "\n",
    "def update():\n",
    "    global iters \n",
    "    global x_width \n",
    "    global n\n",
    "    # массив значений x [-xw/2; xw/2] с шагом x_width/n\n",
    "    x = np.linspace(-x_width / 2, x_width / 2, n)\n",
    "    #типо dx\n",
    "    h = x[1] - x[0]\n",
    "    # Потенциал\n",
    "    # условия сшивки\n",
    "    u = np.array([-1 if i < 0.5 and i > -0.5 else 0 for i in x])#np.array([-1 if i > 0.5 and i < -0.5 else 0 for i in x])\n",
    "    # Матрица гамильтона по диагоналям. Остальные элементы матрицы гамильтона == 0\n",
    "    a = np.full(x.shape[0] - 1, -1 /  h**2 / 2, dtype = float)\n",
    "    b = np.full(x.shape[0], 1 / h**2, dtype=float)\n",
    "    b += u\n",
    "    d = np.random.RandomState(2).random_sample(x.shape)\n",
    "    eigen_vec, eigen_val =  back_iteration_eigen_solver(a, b, a, d, iters)\n",
    "    gt = np.exp(-u)\n",
    "    gt /= np.linalg.norm(gt)\n",
    "    ax.clear()\n",
    "    ax.set_title(f\"Собственное значение = {eigen_val}\")\n",
    "    ax.plot(x, eigen_vec, lw=4, label=\"Полученное решение\")\n",
    "    #ax.plot(x, gt, label=\"Реальное решение\")\n",
    "    #ax.set_ylim(0, 0.40)\n",
    "    ax.legend()\n",
    "    ax.grid()\n",
    "    plt.rcParams['figure.figsize'] = [10, 10]\n",
    "    fig.canvas.draw()\n",
    "    image = np.frombuffer(fig.canvas.tostring_rgb(), dtype=np.uint8)\n",
    "    image  = image.reshape(fig.canvas.get_width_height()[::-1] + (3,))\n",
    "    # img is rgb, convert to opencv's default bgr\n",
    "    image = cv.cvtColor(image,cv.COLOR_RGB2BGR)\n",
    "    cv.imshow(\"img\", image)\n",
    "def change_iter(val):\n",
    "    global iters\n",
    "    if val>0:\n",
    "        iters = val\n",
    "    update()\n",
    "def change_xw(val):\n",
    "    global x_width\n",
    "    if val>0:\n",
    "        x_width = val\n",
    "    update()\n",
    "def change_n(val):\n",
    "    global n\n",
    "    if val>1:\n",
    "        n = val\n",
    "    update()"
   ]
  },
  {
   "cell_type": "code",
   "execution_count": 17,
   "metadata": {},
   "outputs": [],
   "source": [
    "cv.imshow(\"img\", image)\n",
    "cv.namedWindow('settings')\n",
    "cv.createTrackbar('iter', \"settings\", 100, 1000, change_iter)\n",
    "cv.createTrackbar('xw', \"settings\", 20, 100, change_xw)\n",
    "cv.createTrackbar('n', \"settings\", 1000, 1000, change_n)\n",
    "cv.waitKey(0)\n",
    "cv.destroyAllWindows()"
   ]
  },
  {
   "cell_type": "code",
   "execution_count": null,
   "metadata": {},
   "outputs": [],
   "source": []
  }
 ],
 "metadata": {
  "interpreter": {
   "hash": "fdb6fbf867c7187f7f8a8febc5c3788177bc371946a18d2edded7c37c02c74b2"
  },
  "kernelspec": {
   "display_name": "Python 3.7.8 64-bit",
   "language": "python",
   "name": "python3"
  },
  "language_info": {
   "codemirror_mode": {
    "name": "ipython",
    "version": 3
   },
   "file_extension": ".py",
   "mimetype": "text/x-python",
   "name": "python",
   "nbconvert_exporter": "python",
   "pygments_lexer": "ipython3",
   "version": "3.9.5"
  },
  "orig_nbformat": 4
 },
 "nbformat": 4,
 "nbformat_minor": 2
}
