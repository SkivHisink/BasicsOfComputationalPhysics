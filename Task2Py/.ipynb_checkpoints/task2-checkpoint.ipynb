{
 "cells": [
  {
   "cell_type": "code",
   "execution_count": 19,
   "metadata": {},
   "outputs": [],
   "source": [
    "import numpy as numpy\n",
    "import matplotlib.pyplot as plt\n",
    "import math\n",
    "from scipy.misc import derivative"
   ]
  },
  {
   "cell_type": "code",
   "execution_count": 11,
   "metadata": {},
   "outputs": [],
   "source": [
    "u = 10.0\n",
    "a = 5.0\n",
    "x_0 = 0.01 #Решение всегда в этих пределах\n",
    "x_1 = 0.99"
   ]
  },
  {
   "cell_type": "code",
   "execution_count": 12,
   "metadata": {},
   "outputs": [],
   "source": [
    "def asymptote():\n",
    "    return max(1.0 - math.pow(math.pi, 2) * 1.0 / (2 * math.pow(a, 2) * u), x_0)"
   ]
  },
  {
   "cell_type": "code",
   "execution_count": 13,
   "metadata": {},
   "outputs": [],
   "source": [
    "newton_steps = 0\n",
    "def Newton_method(begin, function):\n",
    "     history =list()\n",
    "     epsilon  = 0.000001\n",
    "     while(math.fabs(function(begin)) > epsilon):\n",
    "         history.append(begin)\n",
    "         begin = begin - function(begin) / derivative(function, begin, dx = epsilon)\n",
    "         #newton_steps += 1\n",
    "     return history\n",
    "def function(x):\n",
    "    return 1 / math.tan(math.sqrt(2 * a * a * u * (1 - x))) - math.sqrt(1 / x - 1.0)\n",
    "res = Newton_method((asymptote()+ 1.0)*0.5, function)"
   ]
  },
  {
   "cell_type": "code",
   "execution_count": 14,
   "metadata": {},
   "outputs": [
    {
     "data": {
      "text/plain": [
       "[0.9901303955989107,\n",
       " 0.9948392560990271,\n",
       " 0.9954999940266758,\n",
       " 0.9954789647248512]"
      ]
     },
     "execution_count": 14,
     "metadata": {},
     "output_type": "execute_result"
    }
   ],
   "source": [
    "res"
   ]
  },
  {
   "cell_type": "code",
   "execution_count": null,
   "metadata": {},
   "outputs": [],
   "source": []
  }
 ],
 "metadata": {
  "interpreter": {
   "hash": "fdb6fbf867c7187f7f8a8febc5c3788177bc371946a18d2edded7c37c02c74b2"
  },
  "kernelspec": {
   "display_name": "Python 3 (ipykernel)",
   "language": "python",
   "name": "python3"
  },
  "language_info": {
   "codemirror_mode": {
    "name": "ipython",
    "version": 3
   },
   "file_extension": ".py",
   "mimetype": "text/x-python",
   "name": "python",
   "nbconvert_exporter": "python",
   "pygments_lexer": "ipython3",
   "version": "3.7.8"
  }
 },
 "nbformat": 4,
 "nbformat_minor": 2
}
